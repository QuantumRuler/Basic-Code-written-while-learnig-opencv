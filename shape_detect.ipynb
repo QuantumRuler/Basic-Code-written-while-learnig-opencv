{
 "cells": [
  {
   "cell_type": "code",
   "execution_count": 1,
   "id": "37a50501",
   "metadata": {},
   "outputs": [],
   "source": [
    "import numpy as np\n",
    "import cv2 as cv"
   ]
  },
  {
   "cell_type": "code",
   "execution_count": 2,
   "id": "724dedcf",
   "metadata": {},
   "outputs": [],
   "source": [
    "#then we get the video feed and display the video "
   ]
  },
  {
   "cell_type": "code",
   "execution_count": 3,
   "id": "0c50d899",
   "metadata": {},
   "outputs": [],
   "source": [
    "cap = cv.VideoCapture(0)\n",
    "frame_width = int( cap.get(cv.CAP_PROP_FRAME_WIDTH))\n",
    "\n",
    "frame_height =int( cap.get( cv.CAP_PROP_FRAME_HEIGHT))\n",
    "\n",
    "fourcc = cv.VideoWriter_fourcc('X','V','I','D')\n",
    "\n",
    "out = cv.VideoWriter(\"output.avi\", fourcc, 5.0, (1280,720))"
   ]
  },
  {
   "cell_type": "code",
   "execution_count": 4,
   "id": "7500a57c",
   "metadata": {},
   "outputs": [],
   "source": [
    "# now i would get one frame from the feed\n",
    "ret, frame = cap.read()\n",
    "imgGrey = cv.cvtColor(frame, cv.COLOR_BGR2GRAY)\n",
    "_, thrash = cv.threshold(imgGrey, 240, 255, cv.THRESH_BINARY)\n",
    "contours, _ = cv.findContours(thrash, cv.RETR_TREE, cv.CHAIN_APPROX_NONE)\n"
   ]
  },
  {
   "cell_type": "code",
   "execution_count": 5,
   "id": "1cee0b43",
   "metadata": {},
   "outputs": [],
   "source": [
    "# we will put a while loop to only run the further parts if video feed is open\n",
    "while cap.isOpened():\n",
    "    dump = 1\n",
    "    # now i would get one frame from the feed\n",
    "    ret, frame = cap.read()\n",
    "    imgGrey = cv.cvtColor(frame, cv.COLOR_BGR2GRAY)\n",
    "    _, thrash = cv.threshold(imgGrey, 125, 255, cv.THRESH_BINARY)\n",
    "    contours, _ = cv.findContours(thrash, cv.RETR_TREE, cv.CHAIN_APPROX_NONE)\n",
    "    for contour in contours:\n",
    "        approx = cv.approxPolyDP(contour, 0.01* cv.arcLength(contour, True), True)\n",
    "        cv.drawContours(frame, [approx], 0, (0, 0, 0), 5)\n",
    "        # now get the x and y cordinate \n",
    "        x = approx.ravel()[0]\n",
    "        y = approx.ravel()[1] \n",
    "        if cv.contourArea(contour) < 9000:\n",
    "            continue\n",
    "        if len(approx) == 3:\n",
    "            cv.putText(frame, \"Triangle\", (x, y), cv.FONT_HERSHEY_COMPLEX, 0.5, (0, 0, 0))\n",
    "        elif len(approx) == 4:\n",
    "            # for 4 sides figure we need to distinguish square or quadrilatral\n",
    "            x1 ,y1, w, h = cv.boundingRect(approx)\n",
    "            aspectRatio = float(w)/h\n",
    "           # print(aspectRatio)\n",
    "            if aspectRatio >= 0.95 and aspectRatio <= 1.05:\n",
    "                cv.putText(frame, \"square\", (x, y), cv.FONT_HERSHEY_COMPLEX, 0.5, (0, 0, 0))\n",
    "            else:\n",
    "                cv.putText(frame, \"rectangle\", (x, y), cv.FONT_HERSHEY_COMPLEX, 0.5, (0, 0, 0))\n",
    "        elif len(approx) == 5:\n",
    "            cv.putText(frame, \"Pentagon\", (x, y), cv.FONT_HERSHEY_COMPLEX, 0.5, (0, 0, 0))\n",
    "        else:\n",
    "            cv.putText(frame, \"Circle\", (x, y), cv.FONT_HERSHEY_COMPLEX, 0.5, (0, 0, 0))\n",
    "        if cv.contourArea(contour) < 9000:\n",
    "            image = cv.resize(frame, (1280,720))\n",
    "        \n",
    "        out.write(image)\n",
    "        cv.imshow(\"feed\", frame)\n",
    "        if cv.waitKey(20) & 0xFF == ord('d'):\n",
    "            dump = 0\n",
    "            break\n",
    "    if dump == 0:\n",
    "        break\n",
    "        \n",
    "        #then break through the video\n",
    "\n"
   ]
  },
  {
   "cell_type": "code",
   "execution_count": null,
   "id": "8db6762d",
   "metadata": {},
   "outputs": [],
   "source": [
    "cv.destroyAllWindows()\n",
    "cap.release()\n",
    "out.release()"
   ]
  }
 ],
 "metadata": {
  "kernelspec": {
   "display_name": "Python 3 (ipykernel)",
   "language": "python",
   "name": "python3"
  },
  "language_info": {
   "codemirror_mode": {
    "name": "ipython",
    "version": 3
   },
   "file_extension": ".py",
   "mimetype": "text/x-python",
   "name": "python",
   "nbconvert_exporter": "python",
   "pygments_lexer": "ipython3",
   "version": "3.9.2"
  }
 },
 "nbformat": 4,
 "nbformat_minor": 5
}
