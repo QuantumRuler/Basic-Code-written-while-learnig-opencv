{
 "cells": [
  {
   "cell_type": "code",
   "execution_count": 1,
   "id": "4a22b9b4",
   "metadata": {},
   "outputs": [],
   "source": [
    "import cv2 as cv\n",
    "import numpy as np\n"
   ]
  },
  {
   "cell_type": "code",
   "execution_count": 6,
   "id": "65bd352d",
   "metadata": {},
   "outputs": [],
   "source": [
    "#making a blank img\n",
    "blank = np.zeros((500,500,3), dtype='uint8')\n"
   ]
  },
  {
   "cell_type": "code",
   "execution_count": null,
   "id": "62936a66",
   "metadata": {},
   "outputs": [],
   "source": [
    "cv.imshow('blank',blank)\n",
    "cv.waitKey(0)"
   ]
  },
  {
   "cell_type": "code",
   "execution_count": null,
   "id": "f812ae0d",
   "metadata": {},
   "outputs": [],
   "source": [
    "#paint a colour\n",
    "blank[200:300,300:400] = 0,0,255\n",
    "cv.imshow('red',blank)\n",
    "cv.waitKey(0)"
   ]
  },
  {
   "cell_type": "code",
   "execution_count": null,
   "id": "fffd37f5",
   "metadata": {
    "scrolled": true
   },
   "outputs": [],
   "source": [
    "#Drawing Recatngle to fill put thickness as -1\n",
    "# (img , start , end, colour, thickness)\n",
    "cv.rectangle(blank,(0,0),(250,250),(0,0,255), thickness = -1)\n",
    "cv.imshow( 'Rectangle',blank)\n",
    "cv.waitKey(0)"
   ]
  },
  {
   "cell_type": "code",
   "execution_count": null,
   "id": "2d5cf9aa",
   "metadata": {},
   "outputs": [],
   "source": [
    "#Drawing circle\n",
    "# (img, center, radius, color, thickness)\n",
    "cv.circle(blank,(blank.shape[1]//2,blank.shape[0]//2),70,(0,0,255), thickness = 3)\n",
    "cv.imshow('Circle' , blank)\n",
    "cv.waitKey(0)"
   ]
  },
  {
   "cell_type": "code",
   "execution_count": 5,
   "id": "f621260d",
   "metadata": {
    "scrolled": true
   },
   "outputs": [
    {
     "data": {
      "text/plain": [
       "-1"
      ]
     },
     "execution_count": 5,
     "metadata": {},
     "output_type": "execute_result"
    }
   ],
   "source": [
    "#drawing line\n",
    "##same as retangle\n",
    "cv.line(blank,(0,0),(250,250),(0,0,255), thickness = 1)\n",
    "cv.imshow('line' , blank)\n",
    "cv.waitKey(0)"
   ]
  },
  {
   "cell_type": "code",
   "execution_count": 7,
   "id": "6f84612c",
   "metadata": {},
   "outputs": [
    {
     "data": {
      "text/plain": [
       "-1"
      ]
     },
     "execution_count": 7,
     "metadata": {},
     "output_type": "execute_result"
    }
   ],
   "source": [
    "#Write Text\n",
    "#(img,text,start,font,fontscale,colour,thickness)\n",
    "cv.putText(blank,\"Hello\",(255,255),cv.FONT_HERSHEY_TRIPLEX,1.0,(255,255,255), thickness =2)\n",
    "cv.imshow('Text',blank)\n",
    "cv.waitKey(0)"
   ]
  },
  {
   "cell_type": "code",
   "execution_count": null,
   "id": "da61ecf7",
   "metadata": {},
   "outputs": [],
   "source": [
    "\n",
    "img_resize = cv.resize(img, (1280, 720))\n",
    " \n",
    "center = (500, 230)\n",
    "axes = (100, 200)\n",
    "angle = 30\n",
    "startAngle = 0\n",
    "endAngle = 360\n",
    "color = (12,200,43)\n",
    "thickness = 4\n",
    " \n",
    "#ellipse(img, center, axes, angle, startAngle, endAngle, color[, thickness[, lineType[, shift]]]) -> img\n",
    "cv.ellipse(img_resize, center, axes, angle, startAngle, endAngle, color, thickness)\n",
    " \n",
    "cv.imshow(\"Model Image\", img_resize)"
   ]
  },
  {
   "cell_type": "code",
   "execution_count": null,
   "id": "9099ca75",
   "metadata": {},
   "outputs": [],
   "source": [
    "\n",
    "img_resize = cv.resize(img, (1280, 720))\n",
    " \n",
    " \n",
    "pts = np.array([[12,45], [34,56], [23,76], [67,98], [93,56]])\n",
    "isClosed = True\n",
    "color = (34,65,200)\n",
    "thickness = 5\n",
    " \n",
    "#polylines(img, pts, isClosed, color[, thickness[, lineType[, shift]]]) -> img\n",
    "cv.polylines(img_resize, [pts], isClosed, color, thickness)\n",
    " \n",
    "cv.imshow(\"Model Image\", img_resize)"
   ]
  }
 ],
 "metadata": {
  "kernelspec": {
   "display_name": "Python 3 (ipykernel)",
   "language": "python",
   "name": "python3"
  },
  "language_info": {
   "codemirror_mode": {
    "name": "ipython",
    "version": 3
   },
   "file_extension": ".py",
   "mimetype": "text/x-python",
   "name": "python",
   "nbconvert_exporter": "python",
   "pygments_lexer": "ipython3",
   "version": "3.9.2"
  }
 },
 "nbformat": 4,
 "nbformat_minor": 5
}
