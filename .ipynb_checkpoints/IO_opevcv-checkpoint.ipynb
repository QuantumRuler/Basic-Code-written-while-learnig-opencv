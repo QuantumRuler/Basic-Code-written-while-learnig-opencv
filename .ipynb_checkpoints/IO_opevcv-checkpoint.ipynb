{
 "cells": [
  {
   "cell_type": "code",
   "execution_count": 1,
   "id": "907340ae",
   "metadata": {},
   "outputs": [],
   "source": [
    "import cv2 as cv\n",
    "import numpy as np\n"
   ]
  },
  {
   "cell_type": "code",
   "execution_count": null,
   "id": "129fa747",
   "metadata": {
    "scrolled": true
   },
   "outputs": [],
   "source": [
    "#Rescale function\n",
    "def RescaleFrame(frame, scale =0.25 ):\n",
    "    width = int(frame.shape[1]*scale)\n",
    "    height = int(frame.shape[0]*scale)\n",
    "    dimensions = (width,height)\n",
    "    \n",
    "    return cv.resize(frame,dimensions, interpolation = cv.INTER_AREA)"
   ]
  },
  {
   "cell_type": "code",
   "execution_count": null,
   "id": "93fe18b8",
   "metadata": {},
   "outputs": [],
   "source": [
    "#Change res\n",
    "#works only for live video\n",
    "def ChangeRes(width,height):\n",
    "    capture.set(3,width)\n",
    "    capture.set(4,height)"
   ]
  },
  {
   "cell_type": "code",
   "execution_count": null,
   "id": "ee8fc09d",
   "metadata": {},
   "outputs": [],
   "source": [
    "#reading img\n",
    "img = cv.imread('Photos/cat.jpg')\n",
    "cv.imshow('Cat', img)\n",
    "cv.waitKey(0)"
   ]
  },
  {
   "cell_type": "code",
   "execution_count": null,
   "id": "3024f0cb",
   "metadata": {},
   "outputs": [],
   "source": [
    "#reading large img\n",
    "img = cv.imread('Photos/cat_large.jpg')\n",
    "cv.imshow('Cat', img_rescale)\n",
    "cv.waitKey(0)"
   ]
  },
  {
   "cell_type": "code",
   "execution_count": 2,
   "id": "733a2768",
   "metadata": {
    "scrolled": true
   },
   "outputs": [],
   "source": [
    "#reading videos\n",
    "capture = cv.VideoCapture('Videos/dog.mp4')\n",
    "while True:\n",
    "    istrue, frame = capture.read()\n",
    "\n",
    "    cv.imshow('Video',frame)\n",
    "    if cv.waitKey(20) & 0xFF == ord('d'):\n",
    "        break\n",
    "capture.release()\n",
    "cv.destroyAllWindows()"
   ]
  },
  {
   "cell_type": "code",
   "execution_count": 3,
   "id": "328c1df1",
   "metadata": {},
   "outputs": [],
   "source": [
    "#reading webcam\n",
    "capture = cv.VideoCapture(0)\n",
    "while True:\n",
    "    istrue, frame = capture.read()\n",
    "    cv.imshow('Video',frame)\n",
    "    if cv.waitKey(20) & 0xFF == ord('d'):\n",
    "        break\n",
    "capture.release()\n",
    "cv.destroyAllWindows()"
   ]
  },
  {
   "cell_type": "code",
   "execution_count": null,
   "id": "5c71c1fe",
   "metadata": {},
   "outputs": [],
   "source": [
    "#Rescaled video\n",
    "capture = cv.VideoCapture('Videos/dog.mp4')\n",
    "while True:\n",
    "    istrue, frame = capture.read()\n",
    "    frame_resized = RescaleFrame(frame)\n",
    "    cv.imshow('Video',frame_resized)\n",
    "    if cv.waitKey(20) & 0xFF == ord('d'):\n",
    "        break\n",
    "capture.release()\n",
    "cv.destroyAllWindows()"
   ]
  },
  {
   "cell_type": "code",
   "execution_count": null,
   "id": "09dbdfd1",
   "metadata": {},
   "outputs": [],
   "source": []
  }
 ],
 "metadata": {
  "kernelspec": {
   "display_name": "Python 3 (ipykernel)",
   "language": "python",
   "name": "python3"
  },
  "language_info": {
   "codemirror_mode": {
    "name": "ipython",
    "version": 3
   },
   "file_extension": ".py",
   "mimetype": "text/x-python",
   "name": "python",
   "nbconvert_exporter": "python",
   "pygments_lexer": "ipython3",
   "version": "3.11.3"
  }
 },
 "nbformat": 4,
 "nbformat_minor": 5
}
