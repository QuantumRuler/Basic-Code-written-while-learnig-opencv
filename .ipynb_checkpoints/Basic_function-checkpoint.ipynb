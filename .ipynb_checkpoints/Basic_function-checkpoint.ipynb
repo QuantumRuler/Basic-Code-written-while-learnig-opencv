{
 "cells": [
  {
   "cell_type": "code",
   "execution_count": 1,
   "id": "7f969180",
   "metadata": {},
   "outputs": [],
   "source": [
    "import cv2 as cv\n",
    "import numpy as np"
   ]
  },
  {
   "cell_type": "code",
   "execution_count": 3,
   "id": "146ef153",
   "metadata": {},
   "outputs": [],
   "source": [
    "img = cv.imread('Photos/cat.jpg')\n",
    "cv.imshow('Cat', img)"
   ]
  },
  {
   "cell_type": "code",
   "execution_count": null,
   "id": "e84e10e4",
   "metadata": {},
   "outputs": [],
   "source": [
    "#Converting to gray scale img\n",
    "gray = cv.cvtColor(img , cv.COLOR_BGR2GRAY)\n",
    "cv.imshow('Gray',gray)\n",
    "cv.waitKey(0)"
   ]
  },
  {
   "cell_type": "code",
   "execution_count": null,
   "id": "c9aca86a",
   "metadata": {},
   "outputs": [],
   "source": [
    "#blur\n",
    "#(img , (size of truple),)\n",
    "blur = cv.GaussianBlur(img ,(3,3),cv.BORDER_DEFAULT)\n",
    "cv.imshow('blur',blur)\n",
    "#cv.waitKey(0)"
   ]
  },
  {
   "cell_type": "code",
   "execution_count": null,
   "id": "abd93dd6",
   "metadata": {},
   "outputs": [],
   "source": [
    "#Edge Cascade\n",
    "#(img, two values)\n",
    "canny = cv.Canny(img,125,175)\n",
    "cv.imshow('edges',canny)\n",
    "canny2 = cv.Canny(blur,125,175)\n",
    "cv.imshow('edges2',canny2)\n",
    "#cv.waitKey(0)"
   ]
  },
  {
   "cell_type": "code",
   "execution_count": null,
   "id": "754fe46d",
   "metadata": {},
   "outputs": [],
   "source": [
    "#dilate\n",
    "dilate = cv.dilate(canny2,(3,3),iterations=3)\n",
    "cv.imshow('dilate',dilate)"
   ]
  },
  {
   "cell_type": "code",
   "execution_count": null,
   "id": "ea4b4506",
   "metadata": {},
   "outputs": [],
   "source": [
    "#erode\n",
    "erode = cv.erode(dilate,(7,7),iterations=1)\n",
    "cv.imshow('erode',erode)\n",
    "cv.waitKey(0)"
   ]
  },
  {
   "cell_type": "code",
   "execution_count": null,
   "id": "16631163",
   "metadata": {},
   "outputs": [],
   "source": [
    "#resize\n",
    "#you also add interpolation like INTER_AERA for shriking and INTER_CUBIC & INTER_LINEAR for expanstion \n",
    "resize = cv.resize(img,(500,500))\n",
    "cv.imshow('resized',resize)\n"
   ]
  },
  {
   "cell_type": "code",
   "execution_count": null,
   "id": "32119618",
   "metadata": {
    "scrolled": true
   },
   "outputs": [],
   "source": [
    "#cropping\n",
    "cropped = img[50:200,100:1000]\n",
    "cv.imshow('cropped',cropped)\n",
    "cv.waitKey(0)"
   ]
  },
  {
   "cell_type": "code",
   "execution_count": 4,
   "id": "65dbd5c1",
   "metadata": {},
   "outputs": [],
   "source": [
    "#Split\n",
    "# try using np indexing\n",
    "b,g,r = cv.split(img)"
   ]
  },
  {
   "cell_type": "code",
   "execution_count": 1,
   "id": "3fb9e48a",
   "metadata": {},
   "outputs": [],
   "source": [
    "#Merge\n"
   ]
  },
  {
   "cell_type": "code",
   "execution_count": null,
   "id": "0a2f0ee5",
   "metadata": {},
   "outputs": [],
   "source": [
    "#egde detction\n",
    "lap = cv2.Laplacian(img, cv2.CV_64F, ksize=3)\n",
    "lap = np.uint8(np.absolute(lap))"
   ]
  },
  {
   "cell_type": "code",
   "execution_count": null,
   "id": "b9551425",
   "metadata": {},
   "outputs": [],
   "source": [
    "#egde detection with directional bias\n",
    "# when combined with bitwise or they give better line straight line detections\n",
    "sobelX = cv2.Sobel(img, cv2.CV_64F, 1, 0)\n",
    "sobelY = cv2.Sobel(img, cv2.CV_64F, 0, 1)\n",
    "\n",
    "sobelX = np.uint8(np.absolute(sobelX))\n",
    "sobelY = np.uint8(np.absolute(sobelY))"
   ]
  }
 ],
 "metadata": {
  "kernelspec": {
   "display_name": "Python 3 (ipykernel)",
   "language": "python",
   "name": "python3"
  },
  "language_info": {
   "codemirror_mode": {
    "name": "ipython",
    "version": 3
   },
   "file_extension": ".py",
   "mimetype": "text/x-python",
   "name": "python",
   "nbconvert_exporter": "python",
   "pygments_lexer": "ipython3",
   "version": "3.11.3"
  }
 },
 "nbformat": 4,
 "nbformat_minor": 5
}
