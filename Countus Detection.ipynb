{
 "cells": [
  {
   "cell_type": "code",
   "execution_count": 1,
   "id": "221abe30",
   "metadata": {},
   "outputs": [],
   "source": [
    "import cv2 as cv\n",
    "import numpy as np\n"
   ]
  },
  {
   "cell_type": "code",
   "execution_count": 2,
   "id": "93f12d6d",
   "metadata": {},
   "outputs": [],
   "source": [
    "img = cv.imread('./Photos/cats.jpg')\n",
    "cv.imshow('Cats', img)"
   ]
  },
  {
   "cell_type": "code",
   "execution_count": 7,
   "id": "5d1dab22",
   "metadata": {},
   "outputs": [
    {
     "name": "stdout",
     "output_type": "stream",
     "text": [
      "778 contour(s) found!\n"
     ]
    }
   ],
   "source": [
    "#basic method\n",
    "gray = cv.cvtColor(img, cv.COLOR_BGR2GRAY)\n",
    "\n",
    "blur = cv.GaussianBlur(gray,(3,3), cv.BORDER_DEFAULT)\n",
    "\n",
    "canny = cv.Canny(blur,125,175)\n",
    "\n",
    "#(img , mode , method)\n",
    "contours, hierarchies = cv.findContours(canny, cv.RETR_LIST, cv.CHAIN_APPROX_SIMPLE)\n",
    "print(f'{len(contours)} contour(s) found!')"
   ]
  },
  {
   "cell_type": "code",
   "execution_count": 4,
   "id": "d63d52ee",
   "metadata": {
    "scrolled": true
   },
   "outputs": [
    {
     "name": "stdout",
     "output_type": "stream",
     "text": [
      "428 thresh(s) found!\n"
     ]
    }
   ],
   "source": [
    "ret, thresh = cv.threshold(blur, 125, 255, cv.THRESH_BINARY)\n",
    "#cv.imshow('Thresh', thresh)\n",
    "print(f'{len(thresh)} thresh(s) found!')"
   ]
  },
  {
   "cell_type": "code",
   "execution_count": 5,
   "id": "9f423eb4",
   "metadata": {},
   "outputs": [],
   "source": [
    "blank = np.zeros(img.shape, dtype = 'uint8')"
   ]
  },
  {
   "cell_type": "code",
   "execution_count": 6,
   "id": "06dad123",
   "metadata": {},
   "outputs": [
    {
     "data": {
      "text/plain": [
       "-1"
      ]
     },
     "execution_count": 6,
     "metadata": {},
     "output_type": "execute_result"
    }
   ],
   "source": [
    "cv.drawContours(blank, contours, -1, (0,255,0), 1)\n",
    "cv.imshow('Contours Drawn', blank)\n",
    "cv.waitKey(0)"
   ]
  },
  {
   "cell_type": "code",
   "execution_count": null,
   "id": "3561e1d3",
   "metadata": {},
   "outputs": [],
   "source": [
    "# Adaptive Thresholding\n",
    "adaptive_thresh = cv.adaptiveThreshold(gray, 255, cv.ADAPTIVE_THRESH_GAUSSIAN_C, cv.THRESH_BINARY_INV, 11, 9)"
   ]
  }
 ],
 "metadata": {
  "kernelspec": {
   "display_name": "Python 3 (ipykernel)",
   "language": "python",
   "name": "python3"
  },
  "language_info": {
   "codemirror_mode": {
    "name": "ipython",
    "version": 3
   },
   "file_extension": ".py",
   "mimetype": "text/x-python",
   "name": "python",
   "nbconvert_exporter": "python",
   "pygments_lexer": "ipython3",
   "version": "3.9.2"
  }
 },
 "nbformat": 4,
 "nbformat_minor": 5
}
