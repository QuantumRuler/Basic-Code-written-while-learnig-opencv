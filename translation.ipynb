{
 "cells": [
  {
   "cell_type": "code",
   "execution_count": 1,
   "id": "949eaab7",
   "metadata": {},
   "outputs": [],
   "source": [
    "import cv2 as cv\n",
    "import numpy as np\n"
   ]
  },
  {
   "cell_type": "code",
   "execution_count": null,
   "id": "72d319bd",
   "metadata": {},
   "outputs": [],
   "source": [
    "img = cv.imread('Photos/park.jpg')\n",
    "cv.imshow('Park', img)"
   ]
  },
  {
   "cell_type": "code",
   "execution_count": null,
   "id": "a886bcaa",
   "metadata": {},
   "outputs": [],
   "source": [
    "def translate(img,x,y):\n",
    "    transMat = np.float32([[1,0,x],[0,1,y]])\n",
    "    dimensions = (img.shape[1],img.shape[0])\n",
    "    return cv.warpAffine(img,transMat,dimensions)"
   ]
  },
  {
   "cell_type": "code",
   "execution_count": null,
   "id": "953e0ec0",
   "metadata": {},
   "outputs": [],
   "source": [
    "# -x --> left\n",
    "# -y --> up\n",
    "#  y --> down\n",
    "#  x --> right"
   ]
  },
  {
   "cell_type": "code",
   "execution_count": null,
   "id": "2609c819",
   "metadata": {},
   "outputs": [],
   "source": [
    "#Rotating\n",
    "def rotate(img , angle , rotPoint=None):\n",
    "    (height,width) = img.shape[:2]\n",
    "    if rotPoint is None :\n",
    "        rotPoint = (height//2,width//2)\n",
    "        \n",
    "    rotMat = cv.getRotationMatrix2D(rotPoint, angle  , 1.0)\n",
    "    dimensions = (height,width)\n",
    "    \n",
    "    return cv.warpAffine(img, rotMat, dimensions)\n",
    "        \n",
    "    "
   ]
  },
  {
   "cell_type": "code",
   "execution_count": null,
   "id": "cb7b8b1d",
   "metadata": {},
   "outputs": [],
   "source": [
    "#Resizing\n",
    "resized = cv.resize(img, (500,500), interpolation=cv.INTER_CUBIC)\n"
   ]
  },
  {
   "cell_type": "code",
   "execution_count": null,
   "id": "553c098a",
   "metadata": {},
   "outputs": [],
   "source": [
    "# Flipping\n",
    "# 0 for vertical\n",
    "# 1 for horizontal\n",
    "# -1 for both\n",
    "flip = cv.flip(img, -1)"
   ]
  },
  {
   "cell_type": "code",
   "execution_count": null,
   "id": "94496123",
   "metadata": {},
   "outputs": [],
   "source": [
    "# Cropping\n",
    "cropped = img[200:400, 300:400]"
   ]
  }
 ],
 "metadata": {
  "kernelspec": {
   "display_name": "Python 3 (ipykernel)",
   "language": "python",
   "name": "python3"
  },
  "language_info": {
   "codemirror_mode": {
    "name": "ipython",
    "version": 3
   },
   "file_extension": ".py",
   "mimetype": "text/x-python",
   "name": "python",
   "nbconvert_exporter": "python",
   "pygments_lexer": "ipython3",
   "version": "3.9.2"
  }
 },
 "nbformat": 4,
 "nbformat_minor": 5
}
